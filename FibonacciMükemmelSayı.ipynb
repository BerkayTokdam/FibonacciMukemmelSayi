{
 "cells": [
  {
   "cell_type": "code",
   "execution_count": 1,
   "id": "67b9294d",
   "metadata": {},
   "outputs": [
    {
     "name": "stdout",
     "output_type": "stream",
     "text": [
      "Serimiz kaç adım olsun?3\n",
      "0\n",
      "1\n",
      "1\n"
     ]
    }
   ],
   "source": [
    "# 0 1 1 2 3 5 8 13 21 34 55 ....\n",
    "tane=int(input(\"Serimiz kaç adım olsun?\"))\n",
    "sayi1=0\n",
    "sayi2=1\n",
    "print(sayi1)\n",
    "print(sayi2)\n",
    "for i in range(2,tane):\n",
    "    sayi3=sayi1+sayi2\n",
    "    print(sayi3)\n",
    "    sayi1=sayi2\n",
    "    sayi2=sayi3"
   ]
  },
  {
   "cell_type": "code",
   "execution_count": null,
   "id": "83164b7e",
   "metadata": {},
   "outputs": [],
   "source": [
    "# 6   1 2 3\n",
    "sayi=int(input(\"Lütfen sayı giriniz=\"))\n",
    "toplam=0\n",
    "for i in range(1,sayi):\n",
    "    if sayi%i==0:\n",
    "        toplam=toplam+i\n",
    "if toplam==sayi:\n",
    "    print(sayi,\"Sayi mükemmel sayıdır\")\n",
    "else:\n",
    "    print(sayi,\"Sayi mükemmel değildir\")"
   ]
  },
  {
   "cell_type": "code",
   "execution_count": null,
   "id": "94123ccb",
   "metadata": {},
   "outputs": [],
   "source": []
  }
 ],
 "metadata": {
  "kernelspec": {
   "display_name": "Python 3 (ipykernel)",
   "language": "python",
   "name": "python3"
  },
  "language_info": {
   "codemirror_mode": {
    "name": "ipython",
    "version": 3
   },
   "file_extension": ".py",
   "mimetype": "text/x-python",
   "name": "python",
   "nbconvert_exporter": "python",
   "pygments_lexer": "ipython3",
   "version": "3.11.2"
  }
 },
 "nbformat": 4,
 "nbformat_minor": 5
}
